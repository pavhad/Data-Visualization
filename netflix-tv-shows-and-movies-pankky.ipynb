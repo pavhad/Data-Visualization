{
 "cells": [
  {
   "cell_type": "code",
   "execution_count": 1,
   "id": "a6f91b11",
   "metadata": {
    "_cell_guid": "b1076dfc-b9ad-4769-8c92-a6c4dae69d19",
    "_uuid": "8f2839f25d086af736a60e9eeb907d3b93b6e0e5",
    "execution": {
     "iopub.execute_input": "2022-06-26T14:58:21.180926Z",
     "iopub.status.busy": "2022-06-26T14:58:21.180102Z",
     "iopub.status.idle": "2022-06-26T14:58:22.274950Z",
     "shell.execute_reply": "2022-06-26T14:58:22.273625Z"
    },
    "papermill": {
     "duration": 1.112171,
     "end_time": "2022-06-26T14:58:22.278203",
     "exception": false,
     "start_time": "2022-06-26T14:58:21.166032",
     "status": "completed"
    },
    "tags": []
   },
   "outputs": [],
   "source": [
    "import pandas as pd\n",
    "import matplotlib.pyplot as plt\n",
    "import numpy as np\n",
    "import seaborn as sns"
   ]
  },
  {
   "cell_type": "code",
   "execution_count": 2,
   "id": "9e0ceb22",
   "metadata": {
    "execution": {
     "iopub.execute_input": "2022-06-26T14:58:22.295321Z",
     "iopub.status.busy": "2022-06-26T14:58:22.294919Z",
     "iopub.status.idle": "2022-06-26T14:58:22.300469Z",
     "shell.execute_reply": "2022-06-26T14:58:22.299123Z"
    },
    "papermill": {
     "duration": 0.016635,
     "end_time": "2022-06-26T14:58:22.302765",
     "exception": false,
     "start_time": "2022-06-26T14:58:22.286130",
     "status": "completed"
    },
    "tags": []
   },
   "outputs": [],
   "source": [
    "netflix_pank_titles_url = \"../input/netflix-tv-shows-and-movies/titles.csv\"\n",
    "netflix_pank_credits_url = \"../input/netflix-tv-shows-and-movies/credits.csv\""
   ]
  },
  {
   "cell_type": "code",
   "execution_count": 3,
   "id": "8ba48167",
   "metadata": {
    "execution": {
     "iopub.execute_input": "2022-06-26T14:58:22.319488Z",
     "iopub.status.busy": "2022-06-26T14:58:22.319068Z",
     "iopub.status.idle": "2022-06-26T14:58:22.593913Z",
     "shell.execute_reply": "2022-06-26T14:58:22.592800Z"
    },
    "papermill": {
     "duration": 0.286595,
     "end_time": "2022-06-26T14:58:22.596735",
     "exception": false,
     "start_time": "2022-06-26T14:58:22.310140",
     "status": "completed"
    },
    "tags": []
   },
   "outputs": [],
   "source": [
    "titles = pd.read_csv(netflix_pank_titles_url)\n",
    "credits = pd.read_csv(netflix_pank_credits_url)"
   ]
  },
  {
   "cell_type": "code",
   "execution_count": 4,
   "id": "c3d16b78",
   "metadata": {
    "execution": {
     "iopub.execute_input": "2022-06-26T14:58:22.613495Z",
     "iopub.status.busy": "2022-06-26T14:58:22.613094Z",
     "iopub.status.idle": "2022-06-26T14:58:22.644179Z",
     "shell.execute_reply": "2022-06-26T14:58:22.642999Z"
    },
    "papermill": {
     "duration": 0.042557,
     "end_time": "2022-06-26T14:58:22.646747",
     "exception": false,
     "start_time": "2022-06-26T14:58:22.604190",
     "status": "completed"
    },
    "tags": []
   },
   "outputs": [
    {
     "data": {
      "text/html": [
       "<div>\n",
       "<style scoped>\n",
       "    .dataframe tbody tr th:only-of-type {\n",
       "        vertical-align: middle;\n",
       "    }\n",
       "\n",
       "    .dataframe tbody tr th {\n",
       "        vertical-align: top;\n",
       "    }\n",
       "\n",
       "    .dataframe thead th {\n",
       "        text-align: right;\n",
       "    }\n",
       "</style>\n",
       "<table border=\"1\" class=\"dataframe\">\n",
       "  <thead>\n",
       "    <tr style=\"text-align: right;\">\n",
       "      <th></th>\n",
       "      <th>id</th>\n",
       "      <th>title</th>\n",
       "      <th>type</th>\n",
       "      <th>description</th>\n",
       "      <th>release_year</th>\n",
       "      <th>age_certification</th>\n",
       "      <th>runtime</th>\n",
       "      <th>genres</th>\n",
       "      <th>production_countries</th>\n",
       "      <th>seasons</th>\n",
       "      <th>imdb_id</th>\n",
       "      <th>imdb_score</th>\n",
       "      <th>imdb_votes</th>\n",
       "      <th>tmdb_popularity</th>\n",
       "      <th>tmdb_score</th>\n",
       "    </tr>\n",
       "  </thead>\n",
       "  <tbody>\n",
       "    <tr>\n",
       "      <th>0</th>\n",
       "      <td>ts300399</td>\n",
       "      <td>Five Came Back: The Reference Films</td>\n",
       "      <td>SHOW</td>\n",
       "      <td>This collection includes 12 World War II-era p...</td>\n",
       "      <td>1945</td>\n",
       "      <td>TV-MA</td>\n",
       "      <td>48</td>\n",
       "      <td>['documentation']</td>\n",
       "      <td>['US']</td>\n",
       "      <td>1.0</td>\n",
       "      <td>NaN</td>\n",
       "      <td>NaN</td>\n",
       "      <td>NaN</td>\n",
       "      <td>0.600</td>\n",
       "      <td>NaN</td>\n",
       "    </tr>\n",
       "    <tr>\n",
       "      <th>1</th>\n",
       "      <td>tm84618</td>\n",
       "      <td>Taxi Driver</td>\n",
       "      <td>MOVIE</td>\n",
       "      <td>A mentally unstable Vietnam War veteran works ...</td>\n",
       "      <td>1976</td>\n",
       "      <td>R</td>\n",
       "      <td>113</td>\n",
       "      <td>['crime', 'drama']</td>\n",
       "      <td>['US']</td>\n",
       "      <td>NaN</td>\n",
       "      <td>tt0075314</td>\n",
       "      <td>8.3</td>\n",
       "      <td>795222.0</td>\n",
       "      <td>27.612</td>\n",
       "      <td>8.2</td>\n",
       "    </tr>\n",
       "    <tr>\n",
       "      <th>2</th>\n",
       "      <td>tm127384</td>\n",
       "      <td>Monty Python and the Holy Grail</td>\n",
       "      <td>MOVIE</td>\n",
       "      <td>King Arthur, accompanied by his squire, recrui...</td>\n",
       "      <td>1975</td>\n",
       "      <td>PG</td>\n",
       "      <td>91</td>\n",
       "      <td>['comedy', 'fantasy']</td>\n",
       "      <td>['GB']</td>\n",
       "      <td>NaN</td>\n",
       "      <td>tt0071853</td>\n",
       "      <td>8.2</td>\n",
       "      <td>530877.0</td>\n",
       "      <td>18.216</td>\n",
       "      <td>7.8</td>\n",
       "    </tr>\n",
       "    <tr>\n",
       "      <th>3</th>\n",
       "      <td>tm70993</td>\n",
       "      <td>Life of Brian</td>\n",
       "      <td>MOVIE</td>\n",
       "      <td>Brian Cohen is an average young Jewish man, bu...</td>\n",
       "      <td>1979</td>\n",
       "      <td>R</td>\n",
       "      <td>94</td>\n",
       "      <td>['comedy']</td>\n",
       "      <td>['GB']</td>\n",
       "      <td>NaN</td>\n",
       "      <td>tt0079470</td>\n",
       "      <td>8.0</td>\n",
       "      <td>392419.0</td>\n",
       "      <td>17.505</td>\n",
       "      <td>7.8</td>\n",
       "    </tr>\n",
       "    <tr>\n",
       "      <th>4</th>\n",
       "      <td>tm190788</td>\n",
       "      <td>The Exorcist</td>\n",
       "      <td>MOVIE</td>\n",
       "      <td>12-year-old Regan MacNeil begins to adapt an e...</td>\n",
       "      <td>1973</td>\n",
       "      <td>R</td>\n",
       "      <td>133</td>\n",
       "      <td>['horror']</td>\n",
       "      <td>['US']</td>\n",
       "      <td>NaN</td>\n",
       "      <td>tt0070047</td>\n",
       "      <td>8.1</td>\n",
       "      <td>391942.0</td>\n",
       "      <td>95.337</td>\n",
       "      <td>7.7</td>\n",
       "    </tr>\n",
       "  </tbody>\n",
       "</table>\n",
       "</div>"
      ],
      "text/plain": [
       "         id                                title   type  \\\n",
       "0  ts300399  Five Came Back: The Reference Films   SHOW   \n",
       "1   tm84618                          Taxi Driver  MOVIE   \n",
       "2  tm127384      Monty Python and the Holy Grail  MOVIE   \n",
       "3   tm70993                        Life of Brian  MOVIE   \n",
       "4  tm190788                         The Exorcist  MOVIE   \n",
       "\n",
       "                                         description  release_year  \\\n",
       "0  This collection includes 12 World War II-era p...          1945   \n",
       "1  A mentally unstable Vietnam War veteran works ...          1976   \n",
       "2  King Arthur, accompanied by his squire, recrui...          1975   \n",
       "3  Brian Cohen is an average young Jewish man, bu...          1979   \n",
       "4  12-year-old Regan MacNeil begins to adapt an e...          1973   \n",
       "\n",
       "  age_certification  runtime                 genres production_countries  \\\n",
       "0             TV-MA       48      ['documentation']               ['US']   \n",
       "1                 R      113     ['crime', 'drama']               ['US']   \n",
       "2                PG       91  ['comedy', 'fantasy']               ['GB']   \n",
       "3                 R       94             ['comedy']               ['GB']   \n",
       "4                 R      133             ['horror']               ['US']   \n",
       "\n",
       "   seasons    imdb_id  imdb_score  imdb_votes  tmdb_popularity  tmdb_score  \n",
       "0      1.0        NaN         NaN         NaN            0.600         NaN  \n",
       "1      NaN  tt0075314         8.3    795222.0           27.612         8.2  \n",
       "2      NaN  tt0071853         8.2    530877.0           18.216         7.8  \n",
       "3      NaN  tt0079470         8.0    392419.0           17.505         7.8  \n",
       "4      NaN  tt0070047         8.1    391942.0           95.337         7.7  "
      ]
     },
     "execution_count": 4,
     "metadata": {},
     "output_type": "execute_result"
    }
   ],
   "source": [
    "titles.head()"
   ]
  },
  {
   "cell_type": "code",
   "execution_count": 5,
   "id": "de695570",
   "metadata": {
    "execution": {
     "iopub.execute_input": "2022-06-26T14:58:22.663458Z",
     "iopub.status.busy": "2022-06-26T14:58:22.663079Z",
     "iopub.status.idle": "2022-06-26T14:58:22.675209Z",
     "shell.execute_reply": "2022-06-26T14:58:22.674155Z"
    },
    "papermill": {
     "duration": 0.022923,
     "end_time": "2022-06-26T14:58:22.677580",
     "exception": false,
     "start_time": "2022-06-26T14:58:22.654657",
     "status": "completed"
    },
    "tags": []
   },
   "outputs": [
    {
     "data": {
      "text/html": [
       "<div>\n",
       "<style scoped>\n",
       "    .dataframe tbody tr th:only-of-type {\n",
       "        vertical-align: middle;\n",
       "    }\n",
       "\n",
       "    .dataframe tbody tr th {\n",
       "        vertical-align: top;\n",
       "    }\n",
       "\n",
       "    .dataframe thead th {\n",
       "        text-align: right;\n",
       "    }\n",
       "</style>\n",
       "<table border=\"1\" class=\"dataframe\">\n",
       "  <thead>\n",
       "    <tr style=\"text-align: right;\">\n",
       "      <th></th>\n",
       "      <th>person_id</th>\n",
       "      <th>id</th>\n",
       "      <th>name</th>\n",
       "      <th>character</th>\n",
       "      <th>role</th>\n",
       "    </tr>\n",
       "  </thead>\n",
       "  <tbody>\n",
       "    <tr>\n",
       "      <th>0</th>\n",
       "      <td>3748</td>\n",
       "      <td>tm84618</td>\n",
       "      <td>Robert De Niro</td>\n",
       "      <td>Travis Bickle</td>\n",
       "      <td>ACTOR</td>\n",
       "    </tr>\n",
       "    <tr>\n",
       "      <th>1</th>\n",
       "      <td>14658</td>\n",
       "      <td>tm84618</td>\n",
       "      <td>Jodie Foster</td>\n",
       "      <td>Iris Steensma</td>\n",
       "      <td>ACTOR</td>\n",
       "    </tr>\n",
       "    <tr>\n",
       "      <th>2</th>\n",
       "      <td>7064</td>\n",
       "      <td>tm84618</td>\n",
       "      <td>Albert Brooks</td>\n",
       "      <td>Tom</td>\n",
       "      <td>ACTOR</td>\n",
       "    </tr>\n",
       "    <tr>\n",
       "      <th>3</th>\n",
       "      <td>3739</td>\n",
       "      <td>tm84618</td>\n",
       "      <td>Harvey Keitel</td>\n",
       "      <td>Matthew 'Sport' Higgins</td>\n",
       "      <td>ACTOR</td>\n",
       "    </tr>\n",
       "    <tr>\n",
       "      <th>4</th>\n",
       "      <td>48933</td>\n",
       "      <td>tm84618</td>\n",
       "      <td>Cybill Shepherd</td>\n",
       "      <td>Betsy</td>\n",
       "      <td>ACTOR</td>\n",
       "    </tr>\n",
       "  </tbody>\n",
       "</table>\n",
       "</div>"
      ],
      "text/plain": [
       "   person_id       id             name                character   role\n",
       "0       3748  tm84618   Robert De Niro            Travis Bickle  ACTOR\n",
       "1      14658  tm84618     Jodie Foster            Iris Steensma  ACTOR\n",
       "2       7064  tm84618    Albert Brooks                      Tom  ACTOR\n",
       "3       3739  tm84618    Harvey Keitel  Matthew 'Sport' Higgins  ACTOR\n",
       "4      48933  tm84618  Cybill Shepherd                    Betsy  ACTOR"
      ]
     },
     "execution_count": 5,
     "metadata": {},
     "output_type": "execute_result"
    }
   ],
   "source": [
    "credits.head()"
   ]
  },
  {
   "cell_type": "code",
   "execution_count": 6,
   "id": "25882ffb",
   "metadata": {
    "execution": {
     "iopub.execute_input": "2022-06-26T14:58:22.694658Z",
     "iopub.status.busy": "2022-06-26T14:58:22.693931Z",
     "iopub.status.idle": "2022-06-26T14:58:22.727539Z",
     "shell.execute_reply": "2022-06-26T14:58:22.726113Z"
    },
    "papermill": {
     "duration": 0.045058,
     "end_time": "2022-06-26T14:58:22.730125",
     "exception": false,
     "start_time": "2022-06-26T14:58:22.685067",
     "status": "completed"
    },
    "tags": []
   },
   "outputs": [
    {
     "name": "stdout",
     "output_type": "stream",
     "text": [
      "The number of individual actors credited in netflix shows: 53687\n"
     ]
    }
   ],
   "source": [
    "number_of_actors = credits['name'].nunique()\n",
    "print('The number of individual actors credited in netflix shows:',number_of_actors)"
   ]
  },
  {
   "cell_type": "code",
   "execution_count": 7,
   "id": "331a454b",
   "metadata": {
    "execution": {
     "iopub.execute_input": "2022-06-26T14:58:22.747995Z",
     "iopub.status.busy": "2022-06-26T14:58:22.746920Z",
     "iopub.status.idle": "2022-06-26T14:58:22.990885Z",
     "shell.execute_reply": "2022-06-26T14:58:22.989773Z"
    },
    "papermill": {
     "duration": 0.255279,
     "end_time": "2022-06-26T14:58:22.993185",
     "exception": false,
     "start_time": "2022-06-26T14:58:22.737906",
     "status": "completed"
    },
    "tags": []
   },
   "outputs": [
    {
     "data": {
      "text/plain": [
       "Text(0.5, 1.0, 'Run Time Line')"
      ]
     },
     "execution_count": 7,
     "metadata": {},
     "output_type": "execute_result"
    },
    {
     "data": {
      "image/png": "[encoded data removed]",
      "text/plain": [
       "<Figure size 720x360 with 1 Axes>"
      ]
     },
     "metadata": {
      "needs_background": "light"
     },
     "output_type": "display_data"
    }
   ],
   "source": [
    "runtime = titles['runtime']\n",
    "y = np.sort(runtime)\n",
    "x = np.arange(5806)\n",
    "fig, ax = plt.subplots(figsize=(10, 5))\n",
    "ax.scatter(x, y, s=5, facecolor='C0', edgecolor='k');\n",
    "ax.set_xlabel('Shows')\n",
    "ax.set_ylabel('Run Time')\n",
    "ax.set_title('Run Time Line')"
   ]
  },
  {
   "cell_type": "code",
   "execution_count": 8,
   "id": "6d521617",
   "metadata": {
    "execution": {
     "iopub.execute_input": "2022-06-26T14:58:23.012122Z",
     "iopub.status.busy": "2022-06-26T14:58:23.011655Z",
     "iopub.status.idle": "2022-06-26T14:58:23.594831Z",
     "shell.execute_reply": "2022-06-26T14:58:23.593573Z"
    },
    "papermill": {
     "duration": 0.595862,
     "end_time": "2022-06-26T14:58:23.597316",
     "exception": false,
     "start_time": "2022-06-26T14:58:23.001454",
     "status": "completed"
    },
    "tags": []
   },
   "outputs": [
    {
     "data": {
      "text/plain": [
       "[Text(0.5, 1.0, 'Regression Plot of Run Time'),\n",
       " Text(0.5, 0, 'Shows'),\n",
       " Text(0, 0.5, 'Run Time')]"
      ]
     },
     "execution_count": 8,
     "metadata": {},
     "output_type": "execute_result"
    },
    {
     "data": {
      "image/png": "[encoded data removed]",
      "text/plain": [
       "<Figure size 432x288 with 1 Axes>"
      ]
     },
     "metadata": {
      "needs_background": "light"
     },
     "output_type": "display_data"
    }
   ],
   "source": [
    "sns.regplot(x=x, y=y).set(title=\"Regression Plot of Run Time\", xlabel = \"Shows\", ylabel = \"Run Time\")"
   ]
  },
  {
   "cell_type": "code",
   "execution_count": 9,
   "id": "92dfd2a5",
   "metadata": {
    "execution": {
     "iopub.execute_input": "2022-06-26T14:58:23.616598Z",
     "iopub.status.busy": "2022-06-26T14:58:23.615507Z",
     "iopub.status.idle": "2022-06-26T14:58:23.628420Z",
     "shell.execute_reply": "2022-06-26T14:58:23.627218Z"
    },
    "papermill": {
     "duration": 0.025179,
     "end_time": "2022-06-26T14:58:23.630990",
     "exception": false,
     "start_time": "2022-06-26T14:58:23.605811",
     "status": "completed"
    },
    "tags": []
   },
   "outputs": [
    {
     "data": {
      "text/plain": [
       "count    5806.000000\n",
       "mean       77.643989\n",
       "std        39.474160\n",
       "min         0.000000\n",
       "25%        44.000000\n",
       "50%        84.000000\n",
       "75%       105.000000\n",
       "max       251.000000\n",
       "Name: runtime, dtype: float64"
      ]
     },
     "execution_count": 9,
     "metadata": {},
     "output_type": "execute_result"
    }
   ],
   "source": [
    "titles['runtime'].describe()"
   ]
  },
  {
   "cell_type": "code",
   "execution_count": 10,
   "id": "20c04b34",
   "metadata": {
    "execution": {
     "iopub.execute_input": "2022-06-26T14:58:23.651147Z",
     "iopub.status.busy": "2022-06-26T14:58:23.650438Z",
     "iopub.status.idle": "2022-06-26T14:58:23.657184Z",
     "shell.execute_reply": "2022-06-26T14:58:23.656435Z"
    },
    "papermill": {
     "duration": 0.019545,
     "end_time": "2022-06-26T14:58:23.659510",
     "exception": false,
     "start_time": "2022-06-26T14:58:23.639965",
     "status": "completed"
    },
    "tags": []
   },
   "outputs": [],
   "source": [
    "release_year = titles['release_year'].value_counts()"
   ]
  },
  {
   "cell_type": "code",
   "execution_count": 11,
   "id": "4d7cd057",
   "metadata": {
    "execution": {
     "iopub.execute_input": "2022-06-26T14:58:23.679967Z",
     "iopub.status.busy": "2022-06-26T14:58:23.678895Z",
     "iopub.status.idle": "2022-06-26T14:58:23.683493Z",
     "shell.execute_reply": "2022-06-26T14:58:23.682634Z"
    },
    "papermill": {
     "duration": 0.017175,
     "end_time": "2022-06-26T14:58:23.685589",
     "exception": false,
     "start_time": "2022-06-26T14:58:23.668414",
     "status": "completed"
    },
    "tags": []
   },
   "outputs": [],
   "source": [
    "release_year_sorted = np.sort(release_year)"
   ]
  },
  {
   "cell_type": "code",
   "execution_count": 12,
   "id": "a5e0ec1a",
   "metadata": {
    "execution": {
     "iopub.execute_input": "2022-06-26T14:58:23.705849Z",
     "iopub.status.busy": "2022-06-26T14:58:23.705265Z",
     "iopub.status.idle": "2022-06-26T14:58:23.710758Z",
     "shell.execute_reply": "2022-06-26T14:58:23.709473Z"
    },
    "papermill": {
     "duration": 0.018584,
     "end_time": "2022-06-26T14:58:23.713220",
     "exception": false,
     "start_time": "2022-06-26T14:58:23.694636",
     "status": "completed"
    },
    "tags": []
   },
   "outputs": [
    {
     "name": "stdout",
     "output_type": "stream",
     "text": [
      "The latest year of a title released on Netflix: 2022\n"
     ]
    }
   ],
   "source": [
    "print('The latest year of a title released on Netflix:',titles['release_year'].max())"
   ]
  },
  {
   "cell_type": "code",
   "execution_count": 13,
   "id": "df30c32c",
   "metadata": {
    "execution": {
     "iopub.execute_input": "2022-06-26T14:58:23.733830Z",
     "iopub.status.busy": "2022-06-26T14:58:23.733219Z",
     "iopub.status.idle": "2022-06-26T14:58:23.738934Z",
     "shell.execute_reply": "2022-06-26T14:58:23.737502Z"
    },
    "papermill": {
     "duration": 0.018639,
     "end_time": "2022-06-26T14:58:23.741128",
     "exception": false,
     "start_time": "2022-06-26T14:58:23.722489",
     "status": "completed"
    },
    "tags": []
   },
   "outputs": [
    {
     "name": "stdout",
     "output_type": "stream",
     "text": [
      "The earliest year of a title released on Netflix: 1945\n"
     ]
    }
   ],
   "source": [
    "print('The earliest year of a title released on Netflix:',titles['release_year'].min())"
   ]
  },
  {
   "cell_type": "code",
   "execution_count": 14,
   "id": "814d29c3",
   "metadata": {
    "execution": {
     "iopub.execute_input": "2022-06-26T14:58:23.764352Z",
     "iopub.status.busy": "2022-06-26T14:58:23.762216Z",
     "iopub.status.idle": "2022-06-26T14:58:23.937380Z",
     "shell.execute_reply": "2022-06-26T14:58:23.936605Z"
    },
    "papermill": {
     "duration": 0.189275,
     "end_time": "2022-06-26T14:58:23.939583",
     "exception": false,
     "start_time": "2022-06-26T14:58:23.750308",
     "status": "completed"
    },
    "tags": []
   },
   "outputs": [
    {
     "data": {
      "image/png": "[encoded data removed]",
      "text/plain": [
       "<Figure size 432x288 with 1 Axes>"
      ]
     },
     "metadata": {
      "needs_background": "light"
     },
     "output_type": "display_data"
    }
   ],
   "source": [
    "x = np.arange(1945, 2022, (77/67))\n",
    "y = release_year_sorted\n",
    "plt.plot(x, y)  \n",
    "plt.show()"
   ]
  },
  {
   "cell_type": "code",
   "execution_count": 15,
   "id": "3aed4ccc",
   "metadata": {
    "execution": {
     "iopub.execute_input": "2022-06-26T14:58:23.959262Z",
     "iopub.status.busy": "2022-06-26T14:58:23.958877Z",
     "iopub.status.idle": "2022-06-26T14:58:23.968202Z",
     "shell.execute_reply": "2022-06-26T14:58:23.967092Z"
    },
    "papermill": {
     "duration": 0.021955,
     "end_time": "2022-06-26T14:58:23.970565",
     "exception": false,
     "start_time": "2022-06-26T14:58:23.948610",
     "status": "completed"
    },
    "tags": []
   },
   "outputs": [
    {
     "data": {
      "text/plain": [
       "TV-MA    841\n",
       "R        575\n",
       "TV-14    470\n",
       "PG-13    440\n",
       "PG       246\n",
       "TV-PG    186\n",
       "G        131\n",
       "TV-Y7    112\n",
       "TV-Y     105\n",
       "TV-G      76\n",
       "NC-17     14\n",
       "Name: age_certification, dtype: int64"
      ]
     },
     "execution_count": 15,
     "metadata": {},
     "output_type": "execute_result"
    }
   ],
   "source": [
    "titles['age_certification'].value_counts()"
   ]
  },
  {
   "cell_type": "code",
   "execution_count": 16,
   "id": "148216c5",
   "metadata": {
    "execution": {
     "iopub.execute_input": "2022-06-26T14:58:23.990047Z",
     "iopub.status.busy": "2022-06-26T14:58:23.989695Z",
     "iopub.status.idle": "2022-06-26T14:58:24.032128Z",
     "shell.execute_reply": "2022-06-26T14:58:24.030911Z"
    },
    "papermill": {
     "duration": 0.055173,
     "end_time": "2022-06-26T14:58:24.034693",
     "exception": false,
     "start_time": "2022-06-26T14:58:23.979520",
     "status": "completed"
    },
    "tags": []
   },
   "outputs": [],
   "source": [
    "num_appearance = credits['name'].value_counts()"
   ]
  },
  {
   "cell_type": "code",
   "execution_count": 17,
   "id": "4280eb41",
   "metadata": {
    "execution": {
     "iopub.execute_input": "2022-06-26T14:58:24.054504Z",
     "iopub.status.busy": "2022-06-26T14:58:24.054131Z",
     "iopub.status.idle": "2022-06-26T14:58:24.059071Z",
     "shell.execute_reply": "2022-06-26T14:58:24.057867Z"
    },
    "papermill": {
     "duration": 0.017608,
     "end_time": "2022-06-26T14:58:24.061390",
     "exception": false,
     "start_time": "2022-06-26T14:58:24.043782",
     "status": "completed"
    },
    "tags": []
   },
   "outputs": [],
   "source": [
    "prolific_actors = num_appearance.head(10)"
   ]
  },
  {
   "cell_type": "code",
   "execution_count": 18,
   "id": "aff9d293",
   "metadata": {
    "execution": {
     "iopub.execute_input": "2022-06-26T14:58:24.082132Z",
     "iopub.status.busy": "2022-06-26T14:58:24.081782Z",
     "iopub.status.idle": "2022-06-26T14:58:24.089105Z",
     "shell.execute_reply": "2022-06-26T14:58:24.088297Z"
    },
    "papermill": {
     "duration": 0.020421,
     "end_time": "2022-06-26T14:58:24.091034",
     "exception": false,
     "start_time": "2022-06-26T14:58:24.070613",
     "status": "completed"
    },
    "tags": []
   },
   "outputs": [
    {
     "data": {
      "text/plain": [
       "Shah Rukh Khan           30\n",
       "Anupam Kher              25\n",
       "Boman Irani              25\n",
       "Kareena Kapoor Khan      25\n",
       "Paresh Rawal             22\n",
       "Takahiro Sakurai         22\n",
       "Nawazuddin Siddiqui      21\n",
       "Priyanka Chopra Jonas    21\n",
       "Raúl Campos              21\n",
       "Jan Suter                20\n",
       "Name: name, dtype: int64"
      ]
     },
     "execution_count": 18,
     "metadata": {},
     "output_type": "execute_result"
    }
   ],
   "source": [
    "prolific_actors"
   ]
  },
  {
   "cell_type": "code",
   "execution_count": 19,
   "id": "acae974b",
   "metadata": {
    "execution": {
     "iopub.execute_input": "2022-06-26T14:58:24.112621Z",
     "iopub.status.busy": "2022-06-26T14:58:24.111379Z",
     "iopub.status.idle": "2022-06-26T14:58:24.159869Z",
     "shell.execute_reply": "2022-06-26T14:58:24.158333Z"
    },
    "papermill": {
     "duration": 0.061559,
     "end_time": "2022-06-26T14:58:24.162036",
     "exception": false,
     "start_time": "2022-06-26T14:58:24.100477",
     "status": "completed"
    },
    "tags": []
   },
   "outputs": [
    {
     "name": "stdout",
     "output_type": "stream",
     "text": [
      "There are 10 Robert Dinero movies on Netflix\n"
     ]
    }
   ],
   "source": [
    "print('There are', credits['name'].value_counts()['Robert De Niro'], 'Robert Dinero movies on Netflix')"
   ]
  },
  {
   "cell_type": "code",
   "execution_count": 20,
   "id": "9b022f31",
   "metadata": {
    "execution": {
     "iopub.execute_input": "2022-06-26T14:58:24.182937Z",
     "iopub.status.busy": "2022-06-26T14:58:24.182068Z",
     "iopub.status.idle": "2022-06-26T14:58:24.188772Z",
     "shell.execute_reply": "2022-06-26T14:58:24.187968Z"
    },
    "papermill": {
     "duration": 0.019456,
     "end_time": "2022-06-26T14:58:24.190791",
     "exception": false,
     "start_time": "2022-06-26T14:58:24.171335",
     "status": "completed"
    },
    "tags": []
   },
   "outputs": [],
   "source": [
    "country_productions = titles['production_countries'].value_counts()"
   ]
  },
  {
   "cell_type": "code",
   "execution_count": 21,
   "id": "af1af5f0",
   "metadata": {
    "execution": {
     "iopub.execute_input": "2022-06-26T14:58:24.212152Z",
     "iopub.status.busy": "2022-06-26T14:58:24.211021Z",
     "iopub.status.idle": "2022-06-26T14:58:24.215843Z",
     "shell.execute_reply": "2022-06-26T14:58:24.215114Z"
    },
    "papermill": {
     "duration": 0.017678,
     "end_time": "2022-06-26T14:58:24.217722",
     "exception": false,
     "start_time": "2022-06-26T14:58:24.200044",
     "status": "completed"
    },
    "tags": []
   },
   "outputs": [],
   "source": [
    "top_20_countries = country_productions.head(20)"
   ]
  },
  {
   "cell_type": "code",
   "execution_count": 22,
   "id": "cdf384c3",
   "metadata": {
    "execution": {
     "iopub.execute_input": "2022-06-26T14:58:24.239587Z",
     "iopub.status.busy": "2022-06-26T14:58:24.239109Z",
     "iopub.status.idle": "2022-06-26T14:58:24.245266Z",
     "shell.execute_reply": "2022-06-26T14:58:24.244081Z"
    },
    "papermill": {
     "duration": 0.019987,
     "end_time": "2022-06-26T14:58:24.247586",
     "exception": false,
     "start_time": "2022-06-26T14:58:24.227599",
     "status": "completed"
    },
    "tags": []
   },
   "outputs": [],
   "source": [
    "top_20_countries = pd.DataFrame(top_20_countries)"
   ]
  },
  {
   "cell_type": "code",
   "execution_count": 23,
   "id": "ae545b42",
   "metadata": {
    "execution": {
     "iopub.execute_input": "2022-06-26T14:58:24.269041Z",
     "iopub.status.busy": "2022-06-26T14:58:24.268620Z",
     "iopub.status.idle": "2022-06-26T14:58:24.280972Z",
     "shell.execute_reply": "2022-06-26T14:58:24.279825Z"
    },
    "papermill": {
     "duration": 0.025593,
     "end_time": "2022-06-26T14:58:24.283006",
     "exception": false,
     "start_time": "2022-06-26T14:58:24.257413",
     "status": "completed"
    },
    "tags": []
   },
   "outputs": [
    {
     "data": {
      "text/html": [
       "<div>\n",
       "<style scoped>\n",
       "    .dataframe tbody tr th:only-of-type {\n",
       "        vertical-align: middle;\n",
       "    }\n",
       "\n",
       "    .dataframe tbody tr th {\n",
       "        vertical-align: top;\n",
       "    }\n",
       "\n",
       "    .dataframe thead th {\n",
       "        text-align: right;\n",
       "    }\n",
       "</style>\n",
       "<table border=\"1\" class=\"dataframe\">\n",
       "  <thead>\n",
       "    <tr style=\"text-align: right;\">\n",
       "      <th></th>\n",
       "      <th>production_countries</th>\n",
       "    </tr>\n",
       "  </thead>\n",
       "  <tbody>\n",
       "    <tr>\n",
       "      <th>['US']</th>\n",
       "      <td>1950</td>\n",
       "    </tr>\n",
       "    <tr>\n",
       "      <th>['IN']</th>\n",
       "      <td>605</td>\n",
       "    </tr>\n",
       "    <tr>\n",
       "      <th>['JP']</th>\n",
       "      <td>266</td>\n",
       "    </tr>\n",
       "    <tr>\n",
       "      <th>[]</th>\n",
       "      <td>232</td>\n",
       "    </tr>\n",
       "    <tr>\n",
       "      <th>['GB']</th>\n",
       "      <td>219</td>\n",
       "    </tr>\n",
       "    <tr>\n",
       "      <th>['KR']</th>\n",
       "      <td>210</td>\n",
       "    </tr>\n",
       "    <tr>\n",
       "      <th>['ES']</th>\n",
       "      <td>159</td>\n",
       "    </tr>\n",
       "    <tr>\n",
       "      <th>['FR']</th>\n",
       "      <td>124</td>\n",
       "    </tr>\n",
       "    <tr>\n",
       "      <th>['CA']</th>\n",
       "      <td>103</td>\n",
       "    </tr>\n",
       "    <tr>\n",
       "      <th>['MX']</th>\n",
       "      <td>95</td>\n",
       "    </tr>\n",
       "    <tr>\n",
       "      <th>['BR']</th>\n",
       "      <td>86</td>\n",
       "    </tr>\n",
       "    <tr>\n",
       "      <th>['PH']</th>\n",
       "      <td>80</td>\n",
       "    </tr>\n",
       "    <tr>\n",
       "      <th>['TR']</th>\n",
       "      <td>79</td>\n",
       "    </tr>\n",
       "    <tr>\n",
       "      <th>['NG']</th>\n",
       "      <td>67</td>\n",
       "    </tr>\n",
       "    <tr>\n",
       "      <th>['DE']</th>\n",
       "      <td>65</td>\n",
       "    </tr>\n",
       "    <tr>\n",
       "      <th>['AU']</th>\n",
       "      <td>62</td>\n",
       "    </tr>\n",
       "    <tr>\n",
       "      <th>['CN']</th>\n",
       "      <td>61</td>\n",
       "    </tr>\n",
       "    <tr>\n",
       "      <th>['ID']</th>\n",
       "      <td>56</td>\n",
       "    </tr>\n",
       "    <tr>\n",
       "      <th>['TW']</th>\n",
       "      <td>56</td>\n",
       "    </tr>\n",
       "    <tr>\n",
       "      <th>['IT']</th>\n",
       "      <td>53</td>\n",
       "    </tr>\n",
       "  </tbody>\n",
       "</table>\n",
       "</div>"
      ],
      "text/plain": [
       "        production_countries\n",
       "['US']                  1950\n",
       "['IN']                   605\n",
       "['JP']                   266\n",
       "[]                       232\n",
       "['GB']                   219\n",
       "['KR']                   210\n",
       "['ES']                   159\n",
       "['FR']                   124\n",
       "['CA']                   103\n",
       "['MX']                    95\n",
       "['BR']                    86\n",
       "['PH']                    80\n",
       "['TR']                    79\n",
       "['NG']                    67\n",
       "['DE']                    65\n",
       "['AU']                    62\n",
       "['CN']                    61\n",
       "['ID']                    56\n",
       "['TW']                    56\n",
       "['IT']                    53"
      ]
     },
     "execution_count": 23,
     "metadata": {},
     "output_type": "execute_result"
    }
   ],
   "source": [
    "top_20_countries.rename(index={0: \"Country\", \"production_countries\": \"show_count\"})"
   ]
  },
  {
   "cell_type": "code",
   "execution_count": 24,
   "id": "68b83454",
   "metadata": {
    "execution": {
     "iopub.execute_input": "2022-06-26T14:58:24.305325Z",
     "iopub.status.busy": "2022-06-26T14:58:24.304660Z",
     "iopub.status.idle": "2022-06-26T14:58:24.322498Z",
     "shell.execute_reply": "2022-06-26T14:58:24.321302Z"
    },
    "papermill": {
     "duration": 0.032171,
     "end_time": "2022-06-26T14:58:24.325056",
     "exception": false,
     "start_time": "2022-06-26T14:58:24.292885",
     "status": "completed"
    },
    "tags": []
   },
   "outputs": [
    {
     "data": {
      "text/plain": [
       "ACTOR       72690\n",
       "DIRECTOR     4523\n",
       "Name: role, dtype: int64"
      ]
     },
     "execution_count": 24,
     "metadata": {},
     "output_type": "execute_result"
    }
   ],
   "source": [
    "credits['role'].value_counts()"
   ]
  },
  {
   "cell_type": "code",
   "execution_count": null,
   "id": "8c8ee17c",
   "metadata": {
    "papermill": {
     "duration": 0.009671,
     "end_time": "2022-06-26T14:58:24.344561",
     "exception": false,
     "start_time": "2022-06-26T14:58:24.334890",
     "status": "completed"
    },
    "tags": []
   },
   "outputs": [],
   "source": []
  }
 ],
 "metadata": {
  "kernelspec": {
   "display_name": "Python 3",
   "language": "python",
   "name": "python3"
  },
  "language_info": {
   "codemirror_mode": {
    "name": "ipython",
    "version": 3
   },
   "file_extension": ".py",
   "mimetype": "text/x-python",
   "name": "python",
   "nbconvert_exporter": "python",
   "pygments_lexer": "ipython3",
   "version": "3.7.12"
  },
  "papermill": {
   "default_parameters": {},
   "duration": 13.342562,
   "end_time": "2022-06-26T14:58:25.077792",
   "environment_variables": {},
   "exception": null,
   "input_path": "__notebook__.ipynb",
   "output_path": "__notebook__.ipynb",
   "parameters": {},
   "start_time": "2022-06-26T14:58:11.735230",
   "version": "2.3.4"
  }
 },
 "nbformat": 4,
 "nbformat_minor": 5
}
